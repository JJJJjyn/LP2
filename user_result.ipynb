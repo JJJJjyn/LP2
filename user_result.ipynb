{
 "cells": [
  {
   "cell_type": "code",
   "execution_count": 1,
   "id": "cb3be16f",
   "metadata": {},
   "outputs": [],
   "source": [
    "import torch\n",
    "import pandas as pd\n",
    "from sklearn.model_selection import train_test_split\n",
    "from transformers import BertForSequenceClassification, Trainer, TrainingArguments,BertTokenizerFast\n",
    "from nlp import load_dataset\n",
    "from nlp import Dataset\n",
    "from sklearn.metrics import accuracy_score, precision_recall_fscore_support, log_loss\n",
    "from scipy.special import softmax"
   ]
  },
  {
   "cell_type": "code",
   "execution_count": 2,
   "id": "e47f5839",
   "metadata": {},
   "outputs": [],
   "source": [
    "from transformers import AutoTokenizer, TFAutoModel"
   ]
  },
  {
   "cell_type": "code",
   "execution_count": 3,
   "id": "27fa44e6",
   "metadata": {},
   "outputs": [],
   "source": [
    "tokenizer = BertTokenizerFast.from_pretrained('bert32/tokenizer')\n",
    "model = BertForSequenceClassification.from_pretrained('bert32/model', num_labels=2,output_hidden_states = False)"
   ]
  },
  {
   "cell_type": "code",
   "execution_count": 4,
   "id": "3d2021a1",
   "metadata": {},
   "outputs": [],
   "source": [
    "def compute_metrics(pred):\n",
    "    labels = pred.label_ids\n",
    "    # probs = softmax(pred.predictions, axis = 1)\n",
    "    # logloss = log_loss(labels, probs)\n",
    "    preds = pred.predictions.argmax(-1)\n",
    "    precision, recall, f1, _ = precision_recall_fscore_support(labels, preds, average='binary')\n",
    "    acc = accuracy_score(labels, preds)\n",
    "    return {\n",
    "        'accuracy': acc,\n",
    "        'f1': f1,\n",
    "        'precision': precision,\n",
    "        'recall': recall,\n",
    "    }"
   ]
  },
  {
   "cell_type": "code",
   "execution_count": 5,
   "id": "5ea7ac42",
   "metadata": {},
   "outputs": [],
   "source": [
    "training_args = TrainingArguments(\n",
    "    output_dir='./results', \n",
    "    overwrite_output_dir=True,\n",
    "    num_train_epochs=5,\n",
    "    per_device_train_batch_size=32,\n",
    "    per_device_eval_batch_size=32,\n",
    "    learning_rate=5e-5,\n",
    "    load_best_model_at_end=True,\n",
    "    metric_for_best_model = \"accuracy\",\n",
    "    weight_decay=0.01,\n",
    "    warmup_steps=500,\n",
    "    evaluation_strategy=\"steps\",\n",
    "    logging_strategy = \"steps\",\n",
    "    save_strategy =\"steps\",\n",
    "    logging_steps = 100,\n",
    "    seed = 2020,\n",
    "    logging_dir='./logs' \n",
    ")"
   ]
  },
  {
   "cell_type": "code",
   "execution_count": 6,
   "id": "8c0d11f1",
   "metadata": {},
   "outputs": [
    {
     "name": "stdout",
     "output_type": "stream",
     "text": [
      "40000\n"
     ]
    },
    {
     "data": {
      "text/html": [
       "<div>\n",
       "<style scoped>\n",
       "    .dataframe tbody tr th:only-of-type {\n",
       "        vertical-align: middle;\n",
       "    }\n",
       "\n",
       "    .dataframe tbody tr th {\n",
       "        vertical-align: top;\n",
       "    }\n",
       "\n",
       "    .dataframe thead th {\n",
       "        text-align: right;\n",
       "    }\n",
       "</style>\n",
       "<table border=\"1\" class=\"dataframe\">\n",
       "  <thead>\n",
       "    <tr style=\"text-align: right;\">\n",
       "      <th></th>\n",
       "      <th>Unnamed: 0</th>\n",
       "      <th>text</th>\n",
       "      <th>label</th>\n",
       "    </tr>\n",
       "  </thead>\n",
       "  <tbody>\n",
       "    <tr>\n",
       "      <th>0</th>\n",
       "      <td>0</td>\n",
       "      <td>I'll DM you my address.</td>\n",
       "      <td>1</td>\n",
       "    </tr>\n",
       "    <tr>\n",
       "      <th>1</th>\n",
       "      <td>1</td>\n",
       "      <td>Creationist nonsense, thoroughly debunked. Goo...</td>\n",
       "      <td>1</td>\n",
       "    </tr>\n",
       "    <tr>\n",
       "      <th>2</th>\n",
       "      <td>2</td>\n",
       "      <td>Ok, so what? They had their reasons, and now y...</td>\n",
       "      <td>1</td>\n",
       "    </tr>\n",
       "    <tr>\n",
       "      <th>3</th>\n",
       "      <td>3</td>\n",
       "      <td>I hate every single fucking one of 's despicab...</td>\n",
       "      <td>1</td>\n",
       "    </tr>\n",
       "    <tr>\n",
       "      <th>4</th>\n",
       "      <td>4</td>\n",
       "      <td>Bullshit. An employer is not allowed to beat y...</td>\n",
       "      <td>1</td>\n",
       "    </tr>\n",
       "  </tbody>\n",
       "</table>\n",
       "</div>"
      ],
      "text/plain": [
       "   Unnamed: 0                                               text  label\n",
       "0           0                            I'll DM you my address.      1\n",
       "1           1  Creationist nonsense, thoroughly debunked. Goo...      1\n",
       "2           2  Ok, so what? They had their reasons, and now y...      1\n",
       "3           3  I hate every single fucking one of 's despicab...      1\n",
       "4           4  Bullshit. An employer is not allowed to beat y...      1"
      ]
     },
     "execution_count": 6,
     "metadata": {},
     "output_type": "execute_result"
    }
   ],
   "source": [
    "trainset = pd.read_csv('trainset40000.csv')\n",
    "print(len(trainset))\n",
    "trainset.head()"
   ]
  },
  {
   "cell_type": "code",
   "execution_count": 7,
   "id": "afdca774",
   "metadata": {},
   "outputs": [
    {
     "name": "stdout",
     "output_type": "stream",
     "text": [
      "40000\n"
     ]
    },
    {
     "data": {
      "text/html": [
       "<div>\n",
       "<style scoped>\n",
       "    .dataframe tbody tr th:only-of-type {\n",
       "        vertical-align: middle;\n",
       "    }\n",
       "\n",
       "    .dataframe tbody tr th {\n",
       "        vertical-align: top;\n",
       "    }\n",
       "\n",
       "    .dataframe thead th {\n",
       "        text-align: right;\n",
       "    }\n",
       "</style>\n",
       "<table border=\"1\" class=\"dataframe\">\n",
       "  <thead>\n",
       "    <tr style=\"text-align: right;\">\n",
       "      <th></th>\n",
       "      <th>index</th>\n",
       "      <th>Unnamed: 0</th>\n",
       "      <th>text</th>\n",
       "      <th>label</th>\n",
       "    </tr>\n",
       "  </thead>\n",
       "  <tbody>\n",
       "    <tr>\n",
       "      <th>0</th>\n",
       "      <td>3841</td>\n",
       "      <td>3841</td>\n",
       "      <td>I've never owned a gun nor shot &amp;amp; killed a...</td>\n",
       "      <td>1</td>\n",
       "    </tr>\n",
       "    <tr>\n",
       "      <th>1</th>\n",
       "      <td>12898</td>\n",
       "      <td>12898</td>\n",
       "      <td>Lauren Ralph Lauren Size 10 Metallic-Stripe Ri...</td>\n",
       "      <td>0</td>\n",
       "    </tr>\n",
       "    <tr>\n",
       "      <th>2</th>\n",
       "      <td>15032</td>\n",
       "      <td>15032</td>\n",
       "      <td>You should be slow dancing to oldies with the ...</td>\n",
       "      <td>0</td>\n",
       "    </tr>\n",
       "    <tr>\n",
       "      <th>3</th>\n",
       "      <td>36781</td>\n",
       "      <td>80781</td>\n",
       "      <td>We're a third world country masquerading as a ...</td>\n",
       "      <td>1</td>\n",
       "    </tr>\n",
       "    <tr>\n",
       "      <th>4</th>\n",
       "      <td>9201</td>\n",
       "      <td>9201</td>\n",
       "      <td>The run up is scary but there still appears to...</td>\n",
       "      <td>1</td>\n",
       "    </tr>\n",
       "  </tbody>\n",
       "</table>\n",
       "</div>"
      ],
      "text/plain": [
       "   index  Unnamed: 0                                               text  label\n",
       "0   3841        3841  I've never owned a gun nor shot &amp; killed a...      1\n",
       "1  12898       12898  Lauren Ralph Lauren Size 10 Metallic-Stripe Ri...      0\n",
       "2  15032       15032  You should be slow dancing to oldies with the ...      0\n",
       "3  36781       80781  We're a third world country masquerading as a ...      1\n",
       "4   9201        9201  The run up is scary but there still appears to...      1"
      ]
     },
     "execution_count": 7,
     "metadata": {},
     "output_type": "execute_result"
    }
   ],
   "source": [
    "shuffle_train = trainset.sample(frac=1, random_state=1).reset_index()\n",
    "print(len(shuffle_train))\n",
    "shuffle_train.head()"
   ]
  },
  {
   "cell_type": "code",
   "execution_count": 8,
   "id": "ee1c3c24",
   "metadata": {},
   "outputs": [],
   "source": [
    "shuffle_train = shuffle_train.dropna()"
   ]
  },
  {
   "cell_type": "code",
   "execution_count": 9,
   "id": "a3750420",
   "metadata": {},
   "outputs": [
    {
     "name": "stdout",
     "output_type": "stream",
     "text": [
      "39999\n"
     ]
    }
   ],
   "source": [
    "print(len(shuffle_train))"
   ]
  },
  {
   "cell_type": "code",
   "execution_count": 10,
   "id": "e59c7a8c",
   "metadata": {},
   "outputs": [
    {
     "name": "stdout",
     "output_type": "stream",
     "text": [
      "10000\n"
     ]
    },
    {
     "data": {
      "text/html": [
       "<div>\n",
       "<style scoped>\n",
       "    .dataframe tbody tr th:only-of-type {\n",
       "        vertical-align: middle;\n",
       "    }\n",
       "\n",
       "    .dataframe tbody tr th {\n",
       "        vertical-align: top;\n",
       "    }\n",
       "\n",
       "    .dataframe thead th {\n",
       "        text-align: right;\n",
       "    }\n",
       "</style>\n",
       "<table border=\"1\" class=\"dataframe\">\n",
       "  <thead>\n",
       "    <tr style=\"text-align: right;\">\n",
       "      <th></th>\n",
       "      <th>Unnamed: 0</th>\n",
       "      <th>text</th>\n",
       "      <th>label</th>\n",
       "    </tr>\n",
       "  </thead>\n",
       "  <tbody>\n",
       "    <tr>\n",
       "      <th>0</th>\n",
       "      <td>46000</td>\n",
       "      <td>Digital Security by Design Enters Next Major P...</td>\n",
       "      <td>0</td>\n",
       "    </tr>\n",
       "    <tr>\n",
       "      <th>1</th>\n",
       "      <td>46001</td>\n",
       "      <td>| Local school districts get trained on new vi...</td>\n",
       "      <td>0</td>\n",
       "    </tr>\n",
       "    <tr>\n",
       "      <th>2</th>\n",
       "      <td>46002</td>\n",
       "      <td>| | Wondering how to hide power cords? This $2...</td>\n",
       "      <td>0</td>\n",
       "    </tr>\n",
       "    <tr>\n",
       "      <th>3</th>\n",
       "      <td>46003</td>\n",
       "      <td>| | Cold air’s back, let’s get serious about w...</td>\n",
       "      <td>0</td>\n",
       "    </tr>\n",
       "    <tr>\n",
       "      <th>4</th>\n",
       "      <td>46004</td>\n",
       "      <td>Press Briefing by Press Secretary Jen Psaki, J...</td>\n",
       "      <td>0</td>\n",
       "    </tr>\n",
       "  </tbody>\n",
       "</table>\n",
       "</div>"
      ],
      "text/plain": [
       "   Unnamed: 0                                               text  label\n",
       "0       46000  Digital Security by Design Enters Next Major P...      0\n",
       "1       46001  | Local school districts get trained on new vi...      0\n",
       "2       46002  | | Wondering how to hide power cords? This $2...      0\n",
       "3       46003  | | Cold air’s back, let’s get serious about w...      0\n",
       "4       46004  Press Briefing by Press Secretary Jen Psaki, J...      0"
      ]
     },
     "execution_count": 10,
     "metadata": {},
     "output_type": "execute_result"
    }
   ],
   "source": [
    "testset = pd.read_csv('testset10000.csv')\n",
    "print(len(testset))\n",
    "testset.head()"
   ]
  },
  {
   "cell_type": "code",
   "execution_count": 11,
   "id": "dd72c79f",
   "metadata": {},
   "outputs": [
    {
     "data": {
      "text/plain": [
       "(32176    $CNS Cohen &amp;amp; Steers Limited Duration P...\n",
       " 19250    Dismissal Of Fighters Breached The Moral Princ...\n",
       " 5090     $TAC TransAlta Reports Strong First Quarter 20...\n",
       " 20509    Jings are the still at that game? Last night p...\n",
       " 22876    I actually looked into this and I think that t...\n",
       " Name: text, dtype: object,\n",
       " 36724    Oppo Reno 7 5G India Pricing Surfaces Online A...\n",
       " 16472       Added the Falcon Glider &amp; new leaked wrap:\n",
       " 5997     All 850 Books Texas Lawmaker Matt Krause (R) W...\n",
       " 34367    The 'fact checkers' are already tip toeing aro...\n",
       " 22588    Probably running neck-in-neck with the Trudeau...\n",
       " Name: text, dtype: object)"
      ]
     },
     "execution_count": 11,
     "metadata": {},
     "output_type": "execute_result"
    }
   ],
   "source": [
    "X_train, X_val, y_train, y_val = train_test_split(shuffle_train[\"text\"], shuffle_train[\"label\"], test_size=0.2, random_state=2020)\n",
    "X_train.head(), X_val.head()"
   ]
  },
  {
   "cell_type": "code",
   "execution_count": 12,
   "id": "995f9635",
   "metadata": {},
   "outputs": [],
   "source": [
    "# set max length \n",
    "max_len = 32\n",
    "\n",
    "train_dataset = tokenizer(X_train.tolist(), truncation=True, max_length=max_len, padding=True)\n",
    "train_dataset['label'] = y_train.values\n",
    "val_dataset = tokenizer(X_val.tolist(), truncation=True, max_length=max_len, padding=True)\n",
    "val_dataset['label'] = y_val.values\n",
    "test_dataset = tokenizer(testset['text'].tolist(), truncation=True, max_length=max_len, padding=True)"
   ]
  },
  {
   "cell_type": "code",
   "execution_count": 13,
   "id": "6116d487",
   "metadata": {},
   "outputs": [],
   "source": [
    "train_dataset = Dataset.from_dict(train_dataset)\n",
    "val_dataset = Dataset.from_dict(val_dataset)\n",
    "test_dataset = Dataset.from_dict(test_dataset)"
   ]
  },
  {
   "cell_type": "code",
   "execution_count": 14,
   "id": "0455a37f",
   "metadata": {},
   "outputs": [],
   "source": [
    "trainer = Trainer(\n",
    "    model=model,\n",
    "    args=training_args,\n",
    "    compute_metrics=compute_metrics,\n",
    "    train_dataset=train_dataset,\n",
    "    eval_dataset=val_dataset,\n",
    "    tokenizer = tokenizer\n",
    ")"
   ]
  },
  {
   "cell_type": "code",
   "execution_count": 15,
   "id": "a9959b2f",
   "metadata": {},
   "outputs": [
    {
     "name": "stderr",
     "output_type": "stream",
     "text": [
      "***** Running Prediction *****\n",
      "  Num examples = 10000\n",
      "  Batch size = 32\n"
     ]
    },
    {
     "data": {
      "text/html": [
       "\n",
       "    <div>\n",
       "      \n",
       "      <progress value='313' max='313' style='width:300px; height:20px; vertical-align: middle;'></progress>\n",
       "      [313/313 05:18]\n",
       "    </div>\n",
       "    "
      ],
      "text/plain": [
       "<IPython.core.display.HTML object>"
      ]
     },
     "metadata": {},
     "output_type": "display_data"
    },
    {
     "data": {
      "text/plain": [
       "array([[ 0.7617333 , -1.2927562 ],\n",
       "       [ 1.6783063 , -1.9513254 ],\n",
       "       [-0.250545  , -0.05809055],\n",
       "       ...,\n",
       "       [ 0.37851036, -0.5124843 ],\n",
       "       [-0.97899926,  1.2159214 ],\n",
       "       [-0.22683287,  0.04232647]], dtype=float32)"
      ]
     },
     "execution_count": 15,
     "metadata": {},
     "output_type": "execute_result"
    }
   ],
   "source": [
    "pred = trainer.predict(test_dataset=test_dataset).predictions\n",
    "pred"
   ]
  },
  {
   "cell_type": "code",
   "execution_count": 18,
   "id": "99ab5a56",
   "metadata": {},
   "outputs": [],
   "source": [
    "labels = testset.label\n",
    "preds = pred.argmax(-1)\n",
    "precision, recall, f1, _ = precision_recall_fscore_support(labels, preds, average='binary')\n",
    "acc = accuracy_score(labels, preds)"
   ]
  },
  {
   "cell_type": "code",
   "execution_count": 19,
   "id": "06e45e7c",
   "metadata": {},
   "outputs": [
    {
     "data": {
      "text/plain": [
       "(0.7404, 0.6904218928164196, 0.7897826086956522, 0.7367673899817481)"
      ]
     },
     "execution_count": 19,
     "metadata": {},
     "output_type": "execute_result"
    }
   ],
   "source": [
    "acc, precision, recall, f1"
   ]
  },
  {
   "cell_type": "code",
   "execution_count": 20,
   "id": "f60bee7f",
   "metadata": {},
   "outputs": [],
   "source": [
    "def user_attribute(predict):\n",
    "    pos = 0\n",
    "    for i in range(len(predict)):\n",
    "        if predict[i] == 1:\n",
    "            pos +=1\n",
    "    if pos/len(predict) >=0.5:\n",
    "        return 1\n",
    "    else:\n",
    "        return 0"
   ]
  },
  {
   "cell_type": "code",
   "execution_count": 22,
   "id": "7fd02bee",
   "metadata": {},
   "outputs": [],
   "source": [
    "test_val = testset.label\n",
    "truth = test_val.to_list()"
   ]
  },
  {
   "cell_type": "code",
   "execution_count": 24,
   "id": "db464dc9",
   "metadata": {},
   "outputs": [
    {
     "data": {
      "text/plain": [
       "0.94"
      ]
     },
     "execution_count": 24,
     "metadata": {},
     "output_type": "execute_result"
    }
   ],
   "source": [
    "# user accuracy\n",
    "u_accu = 0\n",
    "for i in range(int(len(truth)/200)):\n",
    "    if user_attribute(preds[i*200:(i+1)*200]) == truth[i*200]:\n",
    "        u_accu +=1\n",
    "user_accuracy = u_accu/(len(truth)/200)\n",
    "user_accuracy"
   ]
  },
  {
   "cell_type": "code",
   "execution_count": 25,
   "id": "ba18c7e2",
   "metadata": {},
   "outputs": [
    {
     "data": {
      "text/plain": [
       "1.0"
      ]
     },
     "execution_count": 25,
     "metadata": {},
     "output_type": "execute_result"
    }
   ],
   "source": [
    "# user recall\n",
    "real_1 = 0\n",
    "both_1 = 0\n",
    "for i in range(int(len(truth)/200)):\n",
    "    if truth[i*200] == 1:\n",
    "        real_1 +=1\n",
    "        if user_attribute(preds[i*200:(i+1)*200]) == 1:\n",
    "            both_1 +=1\n",
    "user_recall = both_1/real_1\n",
    "user_recall"
   ]
  },
  {
   "cell_type": "code",
   "execution_count": 27,
   "id": "1a37caa0",
   "metadata": {},
   "outputs": [
    {
     "data": {
      "text/plain": [
       "(23, 23)"
      ]
     },
     "execution_count": 27,
     "metadata": {},
     "output_type": "execute_result"
    }
   ],
   "source": [
    "both_1, real_1"
   ]
  },
  {
   "cell_type": "code",
   "execution_count": 30,
   "id": "d04735d1",
   "metadata": {},
   "outputs": [
    {
     "data": {
      "text/plain": [
       "0.8846153846153846"
      ]
     },
     "execution_count": 30,
     "metadata": {},
     "output_type": "execute_result"
    }
   ],
   "source": [
    "# user precision\n",
    "pred_1 = 0\n",
    "both_12 = 0\n",
    "for i in range(int(len(truth)/200)):\n",
    "    if user_attribute(preds[i*200:(i+1)*200]) == 1:\n",
    "        pred_1 +=1\n",
    "        if truth[i*200] == 1:\n",
    "            both_12 +=1\n",
    "user_precision = both_12/pred_1\n",
    "user_precision"
   ]
  },
  {
   "cell_type": "code",
   "execution_count": 31,
   "id": "09963d8d",
   "metadata": {},
   "outputs": [
    {
     "data": {
      "text/plain": [
       "(26, 23)"
      ]
     },
     "execution_count": 31,
     "metadata": {},
     "output_type": "execute_result"
    }
   ],
   "source": [
    "pred_1, both_12"
   ]
  },
  {
   "cell_type": "code",
   "execution_count": 32,
   "id": "0b141c2b",
   "metadata": {},
   "outputs": [
    {
     "data": {
      "text/plain": [
       "0.9387755102040816"
      ]
     },
     "execution_count": 32,
     "metadata": {},
     "output_type": "execute_result"
    }
   ],
   "source": [
    "f1 = 2*user_recall*user_precision/(user_recall+user_precision)\n",
    "f1"
   ]
  },
  {
   "cell_type": "code",
   "execution_count": null,
   "id": "800a77a6",
   "metadata": {},
   "outputs": [],
   "source": []
  }
 ],
 "metadata": {
  "kernelspec": {
   "display_name": "Python 3 (ipykernel)",
   "language": "python",
   "name": "python3"
  },
  "language_info": {
   "codemirror_mode": {
    "name": "ipython",
    "version": 3
   },
   "file_extension": ".py",
   "mimetype": "text/x-python",
   "name": "python",
   "nbconvert_exporter": "python",
   "pygments_lexer": "ipython3",
   "version": "3.8.8"
  }
 },
 "nbformat": 4,
 "nbformat_minor": 5
}
